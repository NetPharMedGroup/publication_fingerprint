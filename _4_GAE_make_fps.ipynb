{
 "cells": [
  {
   "cell_type": "code",
   "execution_count": 1,
   "metadata": {},
   "outputs": [
    {
     "name": "stderr",
     "output_type": "stream",
     "text": [
      "Using backend: pytorch\n"
     ]
    }
   ],
   "source": [
    "import os\n",
    "import sys\n",
    "import pickle \n",
    "import dgl\n",
    "import dill\n",
    "import pickle\n",
    "import pandas as pd\n",
    "import numpy as np\n",
    "from imp import reload\n",
    "import math\n",
    "import h5py\n",
    "import shutil\n",
    "import torch\n",
    "from torch.autograd import Variable\n",
    "import torch.nn as nn\n",
    "from torch.nn import functional as F\n",
    "from torch.autograd import Variable\n",
    "from torch.utils.data import TensorDataset, DataLoader, Subset, Dataset\n",
    "from itertools import chain\n",
    "from sklearn.model_selection import KFold\n",
    "from progiter import ProgIter\n",
    "from mymodule import Trasnformer_model, VAE_model, GAE_model\n",
    "import seaborn as sns\n",
    "from scipy.linalg import svd\n",
    "\n",
    "\n",
    "\n",
    "import matplotlib.pyplot as plt\n",
    "from sklearn.model_selection import train_test_split\n",
    "from torch.nn.functional import binary_cross_entropy_with_logits as BCELoss\n",
    "\n",
    "random_state=34"
   ]
  },
  {
   "cell_type": "code",
   "execution_count": 2,
   "metadata": {},
   "outputs": [],
   "source": [
    "with open('/tf/notebooks/code_for_pub/input_files/mols_drugcombonly.pkl', 'rb') as f:\n",
    "    mols = pickle.load(f)\n",
    "with open(\"/tf/notebooks/code_for_pub/input_files/graphs_drugcombonly.pkl\", \"rb\") as f:\n",
    "    graphs = pickle.load(f)"
   ]
  },
  {
   "cell_type": "code",
   "execution_count": 3,
   "metadata": {},
   "outputs": [],
   "source": [
    "PATH = '/tf/notebooks/code_for_pub/_logs_as_python_files/gae_training_logs/keep_ep189'\n",
    "device = torch.device('cpu')\n",
    "m = torch.load(PATH, map_location=device)"
   ]
  },
  {
   "cell_type": "code",
   "execution_count": 4,
   "metadata": {
    "scrolled": true
   },
   "outputs": [
    {
     "data": {
      "text/plain": [
       "GAE(\n",
       "  (layers): ModuleList(\n",
       "    (0): GCN(\n",
       "      (linear): Linear(in_features=54, out_features=54, bias=True)\n",
       "    )\n",
       "    (1): GCN(\n",
       "      (linear): Linear(in_features=54, out_features=46, bias=True)\n",
       "    )\n",
       "    (2): GCN(\n",
       "      (linear): Linear(in_features=46, out_features=40, bias=True)\n",
       "    )\n",
       "    (3): GCN(\n",
       "      (linear): Linear(in_features=40, out_features=34, bias=True)\n",
       "    )\n",
       "    (4): GCN(\n",
       "      (linear): Linear(in_features=34, out_features=28, bias=True)\n",
       "    )\n",
       "    (5): GCN(\n",
       "      (linear): Linear(in_features=28, out_features=22, bias=True)\n",
       "    )\n",
       "    (6): GCN(\n",
       "      (linear): Linear(in_features=22, out_features=16, bias=True)\n",
       "    )\n",
       "  )\n",
       "  (decoder): InnerProductDecoder()\n",
       ")"
      ]
     },
     "execution_count": 4,
     "metadata": {},
     "output_type": "execute_result"
    }
   ],
   "source": [
    "#model = GAE_model.GAE(in_dim=54, hidden_dims=[54,45,35,31,27,23,20,16]) # previous best\n",
    "PATH = '/tf/notebooks/code_for_pub/_logs_as_python_files/gae_training_logs/ep200'\n",
    "device = torch.device('cpu')\n",
    "\n",
    "\n",
    "m = torch.load(PATH, map_location=device)\n",
    "model = GAE_model.GAE(in_dim=54, hidden_dims=[54,46,40,34,28,22,16]\n",
    ")\n",
    "model.load_state_dict(m)\n",
    "model.eval()"
   ]
  },
  {
   "cell_type": "code",
   "execution_count": 6,
   "metadata": {},
   "outputs": [],
   "source": [
    "d_GAE=[]\n",
    "\n",
    "for i in graphs:\n",
    "    a = model.encode(i).detach().numpy()\n",
    "    d_GAE.append(a)"
   ]
  },
  {
   "cell_type": "code",
   "execution_count": 7,
   "metadata": {},
   "outputs": [],
   "source": [
    "\n",
    "# this is the length of the GAE fp, since we do min agg, max agg, mean agg, and SVD decomposition\n",
    "fps_GAE = np.zeros((len(d_GAE),16*4), dtype=np.float) \n",
    "\n",
    "for index,i in enumerate(d_GAE):\n",
    "    me = np.mean(i, axis=0) # aggregation over representation\n",
    "    mi = np.min(i, axis=0)\n",
    "    ma = np.max(i, axis=0)\n",
    "    sv = svd(i, compute_uv=False)\n",
    "    if sv.shape[0] != 16: \n",
    "        # zero padding, in case of small molecules\n",
    "        result = np.zeros((16,))\n",
    "        result[:sv.shape[0]] = sv\n",
    "        sv = result.copy()\n",
    "    fp = np.append([me,mi,ma],sv)\n",
    "    fps_GAE[index] = fp\n",
    "fps_GAE = pd.DataFrame(fps_GAE)"
   ]
  },
  {
   "cell_type": "code",
   "execution_count": 13,
   "metadata": {},
   "outputs": [],
   "source": [
    "# use different fps to copy index\n",
    "with open('/tf/notebooks/code_for_pub/fp_files/fps_VAE_16bit_new.pickle', 'rb') as f:\n",
    "    drugs = pickle.load(f)\n",
    "fps_GAE.index = drugs.index"
   ]
  },
  {
   "cell_type": "code",
   "execution_count": 15,
   "metadata": {},
   "outputs": [],
   "source": [
    "with open('/tf/notebooks/code_for_pub/fp_files/fps_gae_64bit_new.pickle', 'wb') as f:\n",
    "    pickle.dump(fps_GAE,f)"
   ]
  },
  {
   "cell_type": "code",
   "execution_count": null,
   "metadata": {},
   "outputs": [],
   "source": []
  }
 ],
 "metadata": {
  "kernelspec": {
   "display_name": "Python [conda env:root] *",
   "language": "python",
   "name": "conda-root-py"
  },
  "language_info": {
   "codemirror_mode": {
    "name": "ipython",
    "version": 3
   },
   "file_extension": ".py",
   "mimetype": "text/x-python",
   "name": "python",
   "nbconvert_exporter": "python",
   "pygments_lexer": "ipython3",
   "version": "3.7.6"
  }
 },
 "nbformat": 4,
 "nbformat_minor": 4
}
