{
 "cells": [
  {
   "cell_type": "code",
   "execution_count": 9,
   "metadata": {},
   "outputs": [],
   "source": [
    "import copy\n",
    "import numpy as np\n",
    "import pandas as pd\n",
    "import pickle\n",
    "import tempfile\n",
    "import urllib\n",
    "import warnings\n",
    "\n",
    "from collections import defaultdict\n",
    "from imp import reload\n",
    "from mymodule import process_smiles, make_combo_fp, predict_synergy\n",
    "from progiter import ProgIter\n",
    "from time import time\n",
    "\n",
    "warnings.simplefilter('error', FutureWarning)"
   ]
  },
  {
   "cell_type": "code",
   "execution_count": 2,
   "metadata": {},
   "outputs": [],
   "source": [
    "# read in a datafile containing drug_row_cid and drug_col_cid columns with relevant info\n",
    "\n",
    "df_name = '/tf/notebooks/code_for_pub/input_files/doses_CssSyn2020_1.csv'\n",
    "col_names = ['drug_row', 'drug_col', 'drug_row_cid', 'drug_col_cid']\n",
    "df = pd.read_csv(filepath_or_buffer=df_name, \n",
    "                 usecols=col_names,\n",
    "                 sep='|', \n",
    "                 engine='c', \n",
    "                 lineterminator='\\n', \n",
    "                 quotechar='\"', \n",
    "                 low_memory=False)"
   ]
  },
  {
   "cell_type": "code",
   "execution_count": 3,
   "metadata": {},
   "outputs": [],
   "source": [
    "# reads in all drugcomb drugs as of October 2020\n",
    "\n",
    "filename = '/tf/notebooks/code_for_pub/smiles_files/drugcomb_drugs_export_OCT2020.csv'\n",
    "names=['dname','id','smiles','cid']\n",
    "smiles = pd.read_csv(filepath_or_buffer=filename, \n",
    "                     sep=',', \n",
    "                     skiprows=0, \n",
    "                     header=0, \n",
    "                     names=names, \n",
    "                     index_col='id')"
   ]
  },
  {
   "cell_type": "code",
   "execution_count": 4,
   "metadata": {},
   "outputs": [],
   "source": [
    "# get only drugs found in combinations in your datatfile. \n",
    "# use the fact that nan is name for drug_col when it is not a combo (drugcomb-specific info)\n",
    "\n",
    "drugs_in_combo_by_cid = \\\n",
    "df[~pd.isnull(df['drug_col'])]\\\n",
    "[['drug_row_cid','drug_col_cid']]\\\n",
    ".melt(value_name='cid')\\\n",
    ".drop_duplicates(subset=['cid'])\\\n",
    ".drop(columns=['variable'])\\\n",
    ".sort_values(by='cid')\\\n",
    ".reset_index(drop=True)\\\n",
    ".iloc[:,0]"
   ]
  },
  {
   "cell_type": "code",
   "execution_count": 5,
   "metadata": {},
   "outputs": [],
   "source": [
    "# get SMILES of those drugs as a dict\n",
    "\n",
    "smiles_by_cid = smiles.loc[smiles['cid'].isin(drugs_in_combo_by_cid), ['smiles','cid']]\\\n",
    ".set_index(keys='cid', drop=True)\\\n",
    ".iloc[:,0]"
   ]
  },
  {
   "cell_type": "code",
   "execution_count": 29,
   "metadata": {},
   "outputs": [],
   "source": [
    "# Download ChEMBL_26\n",
    "#fd = tempfile.NamedTemporaryFile()\n",
    "#url = 'http://ftp.ebi.ac.uk/pub/databases/chembl/ChEMBLdb/releases/chembl_26/chembl_26_chemreps.txt.gz'\n",
    "#urllib.request.urlretrieve(url, fd.name)\n",
    "\n",
    "# reading in Chembl26 dataset\n",
    "#df = pd.read_table(fd.name, compression='gzip')\n",
    "\n",
    "# remove na's. There is a single one CHEMBL1201364\n",
    "#df = df[~df['canonical_smiles'].isna()]\n",
    "df = pd.read_csv('/tf/notebooks/code_for_pub/input_files/ChEMBL26.csv')\n",
    "\n",
    "smiles_ch = df['canonical_smiles']\n",
    "smiles_ch.reset_index(drop=True, inplace=True)"
   ]
  },
  {
   "cell_type": "code",
   "execution_count": 32,
   "metadata": {},
   "outputs": [],
   "source": [
    "# combine drugcomb and chembl26 smiles\n",
    "smiles_all = smiles_ch.append(smiles_by_cid, ignore_index=True).drop_duplicates()"
   ]
  },
  {
   "cell_type": "code",
   "execution_count": 34,
   "metadata": {},
   "outputs": [
    {
     "data": {
      "text/plain": [
       "<module 'mymodule.process_smiles' from '/tf/notebooks/code_for_pub/mymodule/process_smiles.py'>"
      ]
     },
     "execution_count": 34,
     "metadata": {},
     "output_type": "execute_result"
    }
   ],
   "source": [
    "reload(process_smiles)"
   ]
  },
  {
   "cell_type": "code",
   "execution_count": 35,
   "metadata": {
    "scrolled": true
   },
   "outputs": [
    {
     "name": "stdout",
     "output_type": "stream",
     "text": [
      "---------------\n",
      "num_SMILES: 1944338, size cutoffs: [8, 140] \n",
      "----start of wash----\n",
      "----start chop----\n",
      "remove 52550 SMILES with cut-off [8, 140]\n",
      "---------------\n",
      "----final num SMILES: 1891788\n",
      "---------------\n"
     ]
    }
   ],
   "source": [
    "# preprocess them by standardizing SMILES and removing too long/short SMILES strings using 8-140 cutoff\n",
    "\n",
    "processor = process_smiles.DataPrep(smiles_all)\n",
    "\n",
    "#####\n",
    "final = processor.fin() # outputs series with cid as index and standardizes SMILES as value\n",
    "#####\n",
    "final = final.drop_duplicates()"
   ]
  },
  {
   "cell_type": "code",
   "execution_count": null,
   "metadata": {},
   "outputs": [],
   "source": [
    "#with open('/tf/notebooks/code_for_pub/smiles_files/smiles_drugcombANDchembl26.pickle', 'wb') as f:\n",
    "#    pickle.dump(final, f)"
   ]
  },
  {
   "cell_type": "code",
   "execution_count": 41,
   "metadata": {},
   "outputs": [
    {
     "data": {
      "text/plain": [
       "cid\n",
       "3385                                     C1=C(C(=O)NC(=O)N1)F\n",
       "11960529                  CC1(CCCN1)C2=NC3=C(C=CC=C3N2)C(=O)N\n",
       "24856436    CC(C)(C1=NC(=CC=C1)N2C3=NC(=NC=C3C(=O)N2CC=C)N...\n",
       "11977753    CC(C)(C#N)C1=CC=C(C=C1)N2C3=C4C=C(C=CC4=NC=C3N...\n",
       "387447      B(C(CC(C)C)NC(=O)C(CC1=CC=CC=C1)NC(=O)C2=NC=CN...\n",
       "                                  ...                        \n",
       "9888590     CC(=O)N(C1=CC=CC=C1C=CC2=CC=[N+](C=C2)[O-])S(=...\n",
       "25182616    CNC(=O)C1=C(C=CC=C1F)NC2=NC(=NC3=C2C=CN3)NC4=C...\n",
       "53302361    CCN1CCN(CC1)CC2=C(C=C(C=C2)NC(=O)C3=CC(=C(C=C3...\n",
       "53392493    COC(=O)C=CC(=O)N(CCCCNCC1=CC=C(C=C1)COC(=O)NC2...\n",
       "57519531    CC1(CN(CC1(C)CO)C2=NC=C(C(=C2)C(=O)NC3=CC4=C(C...\n",
       "Name: smiles, Length: 4197, dtype: object"
      ]
     },
     "execution_count": 41,
     "metadata": {},
     "output_type": "execute_result"
    }
   ],
   "source": [
    "smiles_by_cid"
   ]
  },
  {
   "cell_type": "code",
   "execution_count": 42,
   "metadata": {},
   "outputs": [
    {
     "name": "stdout",
     "output_type": "stream",
     "text": [
      "---------------\n",
      "num_SMILES: 4197, size cutoffs: [8, 140] \n",
      "----start of wash----\n",
      "----start chop----\n",
      "remove 44 SMILES with cut-off [8, 140]\n",
      "---------------\n",
      "----final num SMILES: 4153\n",
      "---------------\n"
     ]
    }
   ],
   "source": [
    "processor_dc = process_smiles.DataPrep(smiles_by_cid)\n",
    "\n",
    "#####\n",
    "final_dc = processor_dc.fin() # outputs series with cid as index and standardizes SMILES as value\n",
    "#####\n"
   ]
  },
  {
   "cell_type": "code",
   "execution_count": 49,
   "metadata": {},
   "outputs": [],
   "source": [
    "#with open('/tf/notebooks/code_for_pub/smiles_files/smiles_drugcomb_BY_cid_duplicated.pickle', 'wb') as f:\n",
    "#    pickle.dump(final_dc, f)"
   ]
  },
  {
   "cell_type": "code",
   "execution_count": null,
   "metadata": {},
   "outputs": [],
   "source": []
  }
 ],
 "metadata": {
  "kernelspec": {
   "display_name": "Python [conda env:root] *",
   "language": "python",
   "name": "conda-root-py"
  },
  "language_info": {
   "codemirror_mode": {
    "name": "ipython",
    "version": 3
   },
   "file_extension": ".py",
   "mimetype": "text/x-python",
   "name": "python",
   "nbconvert_exporter": "python",
   "pygments_lexer": "ipython3",
   "version": "3.7.6"
  }
 },
 "nbformat": 4,
 "nbformat_minor": 4
}
