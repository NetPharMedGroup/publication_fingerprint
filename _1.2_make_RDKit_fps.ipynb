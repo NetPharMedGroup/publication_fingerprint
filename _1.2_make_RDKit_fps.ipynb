{
 "cells": [
  {
   "cell_type": "code",
   "execution_count": 19,
   "metadata": {},
   "outputs": [],
   "source": [
    "import pickle\n",
    "from rdkit.Chem import MolFromSmiles\n",
    "from rdkit.Chem.AllChem import GetMorganFingerprintAsBitVect\n",
    "import numpy as np\n",
    "import pandas as pd\n",
    "from rdkit.Chem.rdmolops import RDKFingerprint\n",
    "from functools import partial\n",
    "from collections import defaultdict\n",
    "\n",
    "\n",
    "with open('/tf/notebooks/code_for_pub/smiles_files/smiles_drugcomb.pickle', 'rb') as f:\n",
    "    sms = pickle.load(f)"
   ]
  },
  {
   "cell_type": "code",
   "execution_count": 4,
   "metadata": {},
   "outputs": [],
   "source": [
    "def generate_FPs(smiles, radius=2, length=300, name='morgan'):\n",
    "    '''\n",
    "    smiles df should contain smiles column and cid column\n",
    "    returns morganFP\n",
    "    '''\n",
    "    from rdkit.Chem import MolFromSmiles\n",
    "    from rdkit.Chem.AllChem import GetMorganFingerprintAsBitVect\n",
    "    if name == 'morgan':\n",
    "        f = partial(GetMorganFingerprintAsBitVect,radius=radius, nBits=length)\n",
    "    else: \n",
    "        f = partial(RDKFingerprint, fpSize = length)\n",
    "    holder = np.zeros((len(smiles), length), dtype=np.uint8)\n",
    "    for e,i in enumerate(smiles.iteritems()):\n",
    "        a = MolFromSmiles(i[1])\n",
    "        #holder[e] = np.asarray(GetMorganFingerprintAsBitVect(a, radius=radius, nBits=length), dtype=np.uint8)\n",
    "        holder[e] = np.asarray(f(a), dtype = np.uint8 )\n",
    "        \n",
    "    return holder"
   ]
  },
  {
   "cell_type": "code",
   "execution_count": 5,
   "metadata": {},
   "outputs": [
    {
     "data": {
      "text/plain": [
       "(4153, 301)"
      ]
     },
     "execution_count": 5,
     "metadata": {},
     "output_type": "execute_result"
    }
   ],
   "source": [
    "import pandas as pd\n",
    "smiles = pd.DataFrame(sms)\n",
    "\n",
    "fps_topo = generate_FPs(sms)\n",
    "df = pd.DataFrame(fps_topo, index = sms.index)\n",
    "fin = pd.concat((smiles, df), axis=1)\n",
    "fin.shape"
   ]
  },
  {
   "cell_type": "code",
   "execution_count": 11,
   "metadata": {},
   "outputs": [],
   "source": [
    "#fin.to_csv('/tf/notebooks/code_for_pub/smiles_file/fps_morga.csv', header=True, index=True)"
   ]
  },
  {
   "cell_type": "code",
   "execution_count": 11,
   "metadata": {},
   "outputs": [],
   "source": [
    "#fin.to_csv('/tf/notebooks/code_for_pub/fp_files/fps_topo.csv', header=True, index=True)"
   ]
  },
  {
   "cell_type": "code",
   "execution_count": 25,
   "metadata": {},
   "outputs": [],
   "source": [
    "fin.drop(columns=['smiles'], inplace=True)"
   ]
  },
  {
   "cell_type": "code",
   "execution_count": 27,
   "metadata": {},
   "outputs": [],
   "source": [
    "with open('/tf/notebooks/code_for_pub/fp_files/fps_topo_300bit.pickle','wb') as f:\n",
    "    pickle.dump(fin, f)"
   ]
  },
  {
   "cell_type": "code",
   "execution_count": 20,
   "metadata": {},
   "outputs": [],
   "source": [
    "with open('/tf/notebooks/code_for_pub/smiles_files/smiles_drugcomb.pickle','rb') as f:\n",
    "    test = pickle.load(f)"
   ]
  }
 ],
 "metadata": {
  "kernelspec": {
   "display_name": "Python [conda env:root] *",
   "language": "python",
   "name": "conda-root-py"
  },
  "language_info": {
   "codemirror_mode": {
    "name": "ipython",
    "version": 3
   },
   "file_extension": ".py",
   "mimetype": "text/x-python",
   "name": "python",
   "nbconvert_exporter": "python",
   "pygments_lexer": "ipython3",
   "version": "3.7.6"
  }
 },
 "nbformat": 4,
 "nbformat_minor": 4
}
