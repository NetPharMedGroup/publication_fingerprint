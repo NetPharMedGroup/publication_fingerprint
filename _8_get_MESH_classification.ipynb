{
 "cells": [
  {
   "cell_type": "code",
   "execution_count": 76,
   "metadata": {},
   "outputs": [],
   "source": [
    "import pickle\n",
    "import numpy as np\n",
    "import pandas as pd"
   ]
  },
  {
   "cell_type": "code",
   "execution_count": 4,
   "metadata": {},
   "outputs": [],
   "source": [
    "with open('/tf/notebooks/code_for_pub/smiles_files/smiles_drugcomb_BY_cid_duplicated.pickle','rb') as f:\n",
    "    by_cid=pickle.load(f)"
   ]
  },
  {
   "cell_type": "code",
   "execution_count": 80,
   "metadata": {},
   "outputs": [],
   "source": [
    "import requests\n",
    "from time import sleep\n",
    "\n",
    "def fetch_mesh(cid, ur = 'https://pubchem.ncbi.nlm.nih.gov/rest/pug_view/data/compound/{}/JSON', \n",
    "              max_tries=5):\n",
    "    '''\n",
    "    https://pubchem.ncbi.nlm.nih.gov/rest/pug_view/data/compound/3385/JSON\n",
    "    name is string from DrugComb. Name is used to query PubChem\n",
    "    max_tries is int. \n",
    "    returns a single cid or list of cids if query resolves multiple compounds\n",
    "    sleep(0.2) to circumvent 5 requests/sec for PubChem\n",
    "    '''\n",
    "    out = {}\n",
    "    for d in cid:\n",
    "        for i in range(max_tries):\n",
    "            try:\n",
    "                print(i)\n",
    "                url = ur.format(str(d))\n",
    "                #print(url)\n",
    "                response = requests.post(url)\n",
    "                if response.status_code == 200: # if works, we extract a text string \n",
    "                    a = response.json()['Record']['Section'][8]['Section'][1]['Information'][0]['Name']\n",
    "                    if len(a) !=0: # for cmpds with unique cid\n",
    "                        out[d]=a\n",
    "                        continue\n",
    "                    else: \n",
    "                        out[d]='none'\n",
    "                        continue\n",
    "                sleep(0.2)\n",
    "                break\n",
    "            except: \n",
    "                continue \n",
    "    return out"
   ]
  },
  {
   "cell_type": "code",
   "execution_count": 81,
   "metadata": {},
   "outputs": [],
   "source": [
    "drugs = np.random.choice(by_cid.index, size=10, replace=False)"
   ]
  },
  {
   "cell_type": "code",
   "execution_count": 82,
   "metadata": {},
   "outputs": [
    {
     "name": "stdout",
     "output_type": "stream",
     "text": [
      "0\n",
      "1\n",
      "2\n",
      "3\n",
      "4\n",
      "0\n",
      "1\n",
      "2\n",
      "3\n",
      "4\n",
      "0\n",
      "1\n",
      "2\n",
      "3\n",
      "4\n",
      "0\n",
      "1\n",
      "2\n",
      "3\n",
      "4\n",
      "0\n",
      "1\n",
      "2\n",
      "3\n",
      "4\n",
      "0\n",
      "1\n",
      "2\n",
      "3\n",
      "4\n",
      "0\n",
      "1\n",
      "2\n",
      "3\n",
      "4\n",
      "0\n",
      "1\n",
      "2\n",
      "3\n",
      "4\n",
      "0\n",
      "1\n",
      "2\n",
      "3\n",
      "4\n",
      "0\n",
      "1\n",
      "2\n",
      "3\n",
      "4\n"
     ]
    },
    {
     "data": {
      "text/plain": [
       "{6410734: 'Co-Occurrence Panel',\n",
       " 2895: 'Antidepressive Agents, Tricyclic',\n",
       " 5282481: 'Enzyme Inhibitors',\n",
       " 2145: 'Antineoplastic Agents, Hormonal',\n",
       " 6293: 'EPA CPDat Chemical and Product Categories'}"
      ]
     },
     "execution_count": 82,
     "metadata": {},
     "output_type": "execute_result"
    }
   ],
   "source": [
    "fetch_mesh(drugs)"
   ]
  },
  {
   "cell_type": "code",
   "execution_count": 84,
   "metadata": {},
   "outputs": [
    {
     "name": "stdout",
     "output_type": "stream",
     "text": [
      "3.3.2\n",
      "0.11.0\n",
      "0.24\n"
     ]
    }
   ],
   "source": [
    "import catboost as cb\n",
    "import matplotlib as m\n",
    "import seaborn as s\n",
    "print(m.__version__)\n",
    "print(s.__version__)\n",
    "print(cb.__version__)\n"
   ]
  },
  {
   "cell_type": "code",
   "execution_count": 68,
   "metadata": {},
   "outputs": [],
   "source": [
    "fetch_cid(name=57519531,ur='https://pubchem.ncbi.nlm.nih.gov/rest/pug_view/data/compound/{}/JSON')"
   ]
  },
  {
   "cell_type": "code",
   "execution_count": 11,
   "metadata": {},
   "outputs": [],
   "source": [
    "a = requests.post('https://pubchem.ncbi.nlm.nih.gov/rest/pug_view/data/compound/3385/JSON')"
   ]
  },
  {
   "cell_type": "code",
   "execution_count": 65,
   "metadata": {
    "scrolled": false
   },
   "outputs": [
    {
     "data": {
      "text/plain": [
       "'Antimetabolites, Antineoplastic'"
      ]
     },
     "execution_count": 65,
     "metadata": {},
     "output_type": "execute_result"
    }
   ],
   "source": [
    "a.json()['Record']['Section'][8]['Section'][1]['Information'][0]['Name']"
   ]
  },
  {
   "cell_type": "code",
   "execution_count": null,
   "metadata": {},
   "outputs": [],
   "source": []
  }
 ],
 "metadata": {
  "kernelspec": {
   "display_name": "Python [conda env:root] *",
   "language": "python",
   "name": "conda-root-py"
  },
  "language_info": {
   "codemirror_mode": {
    "name": "ipython",
    "version": 3
   },
   "file_extension": ".py",
   "mimetype": "text/x-python",
   "name": "python",
   "nbconvert_exporter": "python",
   "pygments_lexer": "ipython3",
   "version": "3.7.6"
  }
 },
 "nbformat": 4,
 "nbformat_minor": 4
}
