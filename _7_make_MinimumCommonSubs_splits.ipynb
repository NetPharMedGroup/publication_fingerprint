{
 "cells": [
  {
   "cell_type": "code",
   "execution_count": 1,
   "metadata": {},
   "outputs": [],
   "source": [
    "import copy\n",
    "import numpy as np\n",
    "import pandas as pd\n",
    "import pickle\n",
    "import time\n",
    "from catboost import Pool, CatBoostRegressor\n",
    "from collections import defaultdict\n",
    "from progiter import ProgIter\n",
    "from scipy.stats import pearsonr\n",
    "from sklearn.metrics import mean_squared_error\n",
    "from time import time as t\n",
    "from imp import reload\n",
    "import matplotlib.pyplot as plt\n",
    "import seaborn as sns\n",
    "import pathlib\n",
    "import sys\n",
    "import warnings\n",
    "from sklearn.preprocessing import MinMaxScaler, StandardScaler\n",
    "\n",
    "\n",
    "from os import walk, chdir, getcwd\n",
    "from datetime import datetime\n",
    "from scipy.stats import iqr, wilcoxon, normaltest, sem, t\n",
    "from arch.bootstrap import IIDBootstrap\n",
    "\n",
    "\n",
    "\n",
    "sns.set_style('dark')\n",
    "warnings.filterwarnings('ignore')\n",
    "\n",
    "from mymodule import make_combo_fp, predict_synergy"
   ]
  },
  {
   "cell_type": "code",
   "execution_count": 2,
   "metadata": {},
   "outputs": [],
   "source": [
    "from rdkit import Chem\n",
    "from rdkit.Chem.Scaffolds.MurckoScaffold import MurckoScaffoldSmiles"
   ]
  },
  {
   "cell_type": "code",
   "execution_count": 9,
   "metadata": {},
   "outputs": [],
   "source": [
    "with open('/tf/notebooks/code_for_pub/smiles_files/smiles_drugcomb_BY_cid_duplicated.pickle','rb') as f:\n",
    "    b = pickle.load(f)\n",
    "    b = pd.DataFrame(b).drop_duplicates()\n",
    "drugs_name = '/tf/notebooks/code_for_pub/smiles_files/drugcomb_drugs_export_OCT2020.csv'\n",
    "drugs = pd.read_csv(drugs_name, names=['dname','id', 'smiles', 'cid'], header=0) # oct2020 version\n",
    "\n",
    "mapping = defaultdict(list) \n",
    "for i in drugs.itertuples(): # map cid to id\n",
    "    mapping[i.cid] = i.id\n",
    "b['id'] = b.index\n",
    "b['id'] = b['id'].map(mapping)\n",
    "b = b.set_index('id', drop=True)\n",
    "b = b.iloc[:,0]"
   ]
  },
  {
   "cell_type": "code",
   "execution_count": 10,
   "metadata": {},
   "outputs": [],
   "source": [
    "def mcs_split(data = b, seed = 2,frac_train=0.8,frac_valid=0.1,frac_test=0.1, includeChirality=False):\n",
    "    scaffolds={}\n",
    "    for ind,smiles in b.iteritems():\n",
    "        mol = Chem.MolFromSmiles(smiles)\n",
    "        scaffold = MurckoScaffoldSmiles(mol=mol, includeChirality=includeChirality)\n",
    "        if scaffold not in scaffolds:\n",
    "            scaffolds[scaffold] = [ind]\n",
    "        else:\n",
    "            scaffolds[scaffold].append(ind)\n",
    "    scaffolds = {key: sorted(value) for key, value in scaffolds.items()}\n",
    "    scaffold_sets = [scaffold_set for (scaffold, scaffold_set) \\\n",
    "                     in sorted(scaffolds.items(), key=lambda x: (len(x[1]), x[1][0]), reverse=True)]\n",
    "    frac_train: float = 0.8\n",
    "    frac_valid: float = 0.1\n",
    "    frac_test: float = 0.1\n",
    "\n",
    "    train_cutoff = frac_train * len(b)\n",
    "    valid_cutoff = (frac_train + frac_valid) * len(b)\n",
    "    train_inds = []\n",
    "    valid_inds = []\n",
    "    test_inds = []\n",
    "    \n",
    "    for scaffold_set in scaffold_sets:\n",
    "      if len(train_inds) + len(scaffold_set) > train_cutoff:\n",
    "        if len(train_inds) + len(valid_inds) + len(scaffold_set) > valid_cutoff:\n",
    "          test_inds += scaffold_set\n",
    "        else:\n",
    "          valid_inds += scaffold_set\n",
    "      else:\n",
    "        train_inds += scaffold_set\n",
    "    return train_inds, valid_inds, test_inds, scaffold_sets"
   ]
  },
  {
   "cell_type": "code",
   "execution_count": 11,
   "metadata": {},
   "outputs": [],
   "source": [
    "test = mcs_split(b)"
   ]
  },
  {
   "cell_type": "code",
   "execution_count": 34,
   "metadata": {},
   "outputs": [
    {
     "data": {
      "text/plain": [
       "<AxesSubplot:ylabel='Density'>"
      ]
     },
     "execution_count": 34,
     "metadata": {},
     "output_type": "execute_result"
    },
    {
     "data": {
      "image/png": "[encoded data removed]",
      "text/plain": [
       "<Figure size 432x288 with 1 Axes>"
      ]
     },
     "metadata": {},
     "output_type": "display_data"
    }
   ],
   "source": [
    "sns.set()\n",
    "sns.distplot([len(x) for x in test[3]][:100], hist=True, kde=True,)"
   ]
  },
  {
   "cell_type": "code",
   "execution_count": null,
   "metadata": {},
   "outputs": [],
   "source": []
  },
  {
   "cell_type": "code",
   "execution_count": null,
   "metadata": {},
   "outputs": [],
   "source": []
  }
 ],
 "metadata": {
  "kernelspec": {
   "display_name": "Python [conda env:root] *",
   "language": "python",
   "name": "conda-root-py"
  },
  "language_info": {
   "codemirror_mode": {
    "name": "ipython",
    "version": 3
   },
   "file_extension": ".py",
   "mimetype": "text/x-python",
   "name": "python",
   "nbconvert_exporter": "python",
   "pygments_lexer": "ipython3",
   "version": "3.7.6"
  }
 },
 "nbformat": 4,
 "nbformat_minor": 4
}
